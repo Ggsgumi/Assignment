{
  "nbformat": 4,
  "nbformat_minor": 0,
  "metadata": {
    "colab": {
      "name": "h8dsft_Linear_Algabra2.ipynb",
      "provenance": []
    },
    "kernelspec": {
      "name": "python3",
      "display_name": "Python 3"
    },
    "language_info": {
      "name": "python"
    }
  },
  "cells": [
    {
      "cell_type": "code",
      "metadata": {
        "colab": {
          "base_uri": "https://localhost:8080/"
        },
        "id": "7sdmeP6XITEU",
        "outputId": "f280318e-cead-4f93-c610-906ee077b329"
      },
      "source": [
        "import numpy as np\n",
        "import sympy as sy\n",
        "\n",
        "a = np.array([[2, 1, 0],[-1, 3, 2],[-4, 5, 4]])\n",
        "ab = sy.Matrix(a); ab.rref()"
      ],
      "execution_count": 4,
      "outputs": [
        {
          "output_type": "execute_result",
          "data": {
            "text/plain": [
              "(Matrix([\n",
              " [1, 0, -2/7],\n",
              " [0, 1,  4/7],\n",
              " [0, 0,    0]]), (0, 1))"
            ]
          },
          "metadata": {
            "tags": []
          },
          "execution_count": 4
        }
      ]
    },
    {
      "cell_type": "code",
      "metadata": {
        "id": "IndHCC_PTZ3i"
      },
      "source": [
        ""
      ],
      "execution_count": 4,
      "outputs": []
    }
  ]
}