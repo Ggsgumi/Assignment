{
  "nbformat": 4,
  "nbformat_minor": 0,
  "metadata": {
    "colab": {
      "name": "NGC_4.ipynb",
      "provenance": []
    },
    "kernelspec": {
      "name": "python3",
      "display_name": "Python 3"
    },
    "language_info": {
      "name": "python"
    }
  },
  "cells": [
    {
      "cell_type": "code",
      "metadata": {
        "colab": {
          "base_uri": "https://localhost:8080/"
        },
        "id": "4m9HUkN8xRNV",
        "outputId": "1fc59a9a-55ad-4116-bdb2-f7fb50cefbaa"
      },
      "source": [
        "import numpy as np\n",
        "import tensorflow as tf\n",
        "a = np.array([17, 12, 19])\n",
        "a"
      ],
      "execution_count": 51,
      "outputs": [
        {
          "output_type": "execute_result",
          "data": {
            "text/plain": [
              "array([17, 12, 19])"
            ]
          },
          "metadata": {
            "tags": []
          },
          "execution_count": 51
        }
      ]
    },
    {
      "cell_type": "code",
      "metadata": {
        "colab": {
          "base_uri": "https://localhost:8080/"
        },
        "id": "d3Il9fTUyRir",
        "outputId": "f2b56e97-801d-49b1-b20c-b6a4dec289af"
      },
      "source": [
        "b = np.array([[20,50,19],\n",
        "              [7, 12, 109],\n",
        "              [57, 67, 98]])\n",
        "b"
      ],
      "execution_count": 14,
      "outputs": [
        {
          "output_type": "execute_result",
          "data": {
            "text/plain": [
              "array([[ 20,  50,  19],\n",
              "       [  7,  12, 109],\n",
              "       [ 57,  67,  98]])"
            ]
          },
          "metadata": {
            "tags": []
          },
          "execution_count": 14
        }
      ]
    },
    {
      "cell_type": "code",
      "metadata": {
        "colab": {
          "base_uri": "https://localhost:8080/"
        },
        "id": "tenOxjzkzd1Z",
        "outputId": "b9cf3b38-ff47-4275-bd70-e9d57b533e64"
      },
      "source": [
        "c = np.array([([20,50],[7,12]),\n",
        "               ([47,67],[99,43]),\n",
        "               ([75,21],[57,12]),\n",
        "               ([87,26],[18,84])])\n",
        "c"
      ],
      "execution_count": 30,
      "outputs": [
        {
          "output_type": "execute_result",
          "data": {
            "text/plain": [
              "array([[[20, 50],\n",
              "        [ 7, 12]],\n",
              "\n",
              "       [[47, 67],\n",
              "        [99, 43]],\n",
              "\n",
              "       [[75, 21],\n",
              "        [57, 12]],\n",
              "\n",
              "       [[87, 26],\n",
              "        [18, 84]]])"
            ]
          },
          "metadata": {
            "tags": []
          },
          "execution_count": 30
        }
      ]
    },
    {
      "cell_type": "code",
      "metadata": {
        "colab": {
          "base_uri": "https://localhost:8080/"
        },
        "id": "F3bsOMIG4ADw",
        "outputId": "d4be3af7-cb55-408e-c3c3-161b9e9ebd17"
      },
      "source": [
        "d = np.array([[23, 50, 19],\n",
        "              [7, 12, 109],\n",
        "              [57, 67, 98]])\n",
        "e = np.array([17, 22, 19])\n",
        "\n",
        "A.dot(d,e)\n"
      ],
      "execution_count": 47,
      "outputs": [
        {
          "output_type": "execute_result",
          "data": {
            "text/plain": [
              "array([305159, 410483, 724564])"
            ]
          },
          "metadata": {
            "tags": []
          },
          "execution_count": 47
        }
      ]
    },
    {
      "cell_type": "code",
      "metadata": {
        "colab": {
          "base_uri": "https://localhost:8080/"
        },
        "id": "tZNXRu1CAXyh",
        "outputId": "505735a4-7a9f-412a-c80c-9b09e60d2e36"
      },
      "source": [
        "f = np.array([[23, 50, 19],\n",
        "              [7, 12, 109],\n",
        "              [57, 67, 98]])\n",
        "f.T"
      ],
      "execution_count": 31,
      "outputs": [
        {
          "output_type": "execute_result",
          "data": {
            "text/plain": [
              "array([[ 23,   7,  57],\n",
              "       [ 50,  12,  67],\n",
              "       [ 19, 109,  98]])"
            ]
          },
          "metadata": {
            "tags": []
          },
          "execution_count": 31
        }
      ]
    },
    {
      "cell_type": "code",
      "metadata": {
        "id": "ovIbVOXqGHU6",
        "outputId": "770264de-ed40-4be4-e0e4-e4d6513ce9df",
        "colab": {
          "base_uri": "https://localhost:8080/",
          "height": 268
        }
      },
      "source": [
        "import matplotlib.pyplot as plt\n",
        "\n",
        "U = np.array([2, 5])\n",
        "V = np.array([3, 1])\n",
        "x_coords, y_coords = zip(U, V)\n",
        "plt.scatter(x_coords, y_coords, color=[\"r\",\"b\"])\n",
        "plt.axis([0, 6, 0, 6])\n",
        "plt.grid()\n",
        "plt.show()\n"
      ],
      "execution_count": 56,
      "outputs": [
        {
          "output_type": "display_data",
          "data": {
            "image/png": "[encoded data removed]",
            "text/plain": [
              "<Figure size 432x288 with 1 Axes>"
            ]
          },
          "metadata": {
            "tags": [],
            "needs_background": "light"
          }
        }
      ]
    }
  ]
}