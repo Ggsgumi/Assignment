{
  "nbformat": 4,
  "nbformat_minor": 0,
  "metadata": {
    "colab": {
      "name": "h8dsft_probability.ipynb",
      "provenance": []
    },
    "kernelspec": {
      "name": "python3",
      "display_name": "Python 3"
    },
    "language_info": {
      "name": "python"
    }
  },
  "cells": [
    {
      "cell_type": "code",
      "metadata": {
        "id": "lzeJQp_WtwRR"
      },
      "source": [
        "%matplotlib inline\n",
        "import random\n",
        "import matplotlib.pyplot as plt\n",
        "\n",
        "kepala_ekor = [0,0]\n",
        "\n",
        "percobaanTot = 50000\n",
        "percobaan = 0\n",
        "\n",
        "while percobaan < percobaanTot:\n",
        "  percobaan = percobaan + 1\n",
        "  lempar = random.randint(0,1)\n",
        "  kepala_ekor[lempar] = kepala_ekor[lempar] + 1\n",
        "\n",
        "print(kepala_ekor)\n",
        "\n",
        "plt.figure(figsize= (6,6))\n",
        "plt.pie(kepala_ekor, labels=['kepala','ekor'])\n",
        "plt.legend()\n",
        "plt.show()\n",
        "\n"
      ],
      "execution_count": null,
      "outputs": []
    }
  ]
}