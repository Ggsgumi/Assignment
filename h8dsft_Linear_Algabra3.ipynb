{
  "nbformat": 4,
  "nbformat_minor": 0,
  "metadata": {
    "colab": {
      "name": "h8dsft_Linear_Algabra3.ipynb",
      "provenance": []
    },
    "kernelspec": {
      "name": "python3",
      "display_name": "Python 3"
    },
    "language_info": {
      "name": "python"
    }
  },
  "cells": [
    {
      "cell_type": "code",
      "metadata": {
        "id": "Hnnd_bps84BW"
      },
      "source": [
        "import numpy as np\n",
        "import sympy as sy\n",
        "\n",
        "a = np.array([[1, -1],[6, -4]])\n",
        "a"
      ],
      "execution_count": null,
      "outputs": []
    },
    {
      "cell_type": "code",
      "metadata": {
        "id": "zyIv-crpcNhG",
        "colab": {
          "base_uri": "https://localhost:8080/"
        },
        "outputId": "f842f57f-a4f0-4c34-ca7b-7e5e28de58b8"
      },
      "source": [
        "np.linalg.eig(a)"
      ],
      "execution_count": null,
      "outputs": [
        {
          "output_type": "execute_result",
          "data": {
            "text/plain": [
              "(array([-1., -2.]), array([[0.4472136 , 0.31622777],\n",
              "        [0.89442719, 0.9486833 ]]))"
            ]
          },
          "metadata": {
            "tags": []
          },
          "execution_count": 8
        }
      ]
    },
    {
      "cell_type": "markdown",
      "metadata": {
        "id": "jfOm6ozGe54y"
      },
      "source": [
        "didapat bahwa eigenvalue -1 dengan eigenvactor 0.4472136, 0.89442719.sedangkan eigenvalue -2 dengan eigenvactor 0.31622777 dan 0.9486833.\n",
        "\n",
        "\n"
      ]
    }
  ]
}